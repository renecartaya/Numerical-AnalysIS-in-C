{
 "cells": [
  {
   "cell_type": "code",
   "execution_count": null,
   "id": "aafd837a-11f9-4c41-9a2d-924d3a51bef6",
   "metadata": {},
   "outputs": [],
   "source": [
    "#####################################################################################################################\n",
    "#\n",
    "#                                              Test of Models in Python\n",
    "#\n",
    "#####################################################################################################################"
   ]
  },
  {
   "cell_type": "code",
   "execution_count": 6,
   "id": "ae67aff0-9f18-4bfa-8cc7-a698671583d3",
   "metadata": {},
   "outputs": [
    {
     "data": {
      "image/png": "[encoded data removed]",
      "text/plain": [
       "<Figure size 432x288 with 1 Axes>"
      ]
     },
     "metadata": {
      "needs_background": "light"
     },
     "output_type": "display_data"
    }
   ],
   "source": [
    "#####################################################################################################################\n",
    "#                                                    Euler Method\n",
    "#####################################################################################################################\n",
    "\n",
    "import numpy as np\n",
    "from matplotlib import pyplot as plt\n",
    "\n",
    "# mx'' = - bx' - kx\n",
    "x_0 = 3\n",
    "v_0 = 0\n",
    "y_0 = np.array([x_0,v_0])         # first array \n",
    "\n",
    "def Euler_Method(f,a,b,y0,step):\n",
    "  t = np.linspace(a,b,step)\n",
    "  h = t[1] - t[0]\n",
    "  Y = [y0]\n",
    "  N = len(t)\n",
    "  n = 0\n",
    "  y = y0\n",
    "\n",
    "  for n in range(0,N-1) :\n",
    "    y = y + h*f(y,t[n])\n",
    "    Y.append(y)\n",
    "    n = n+1  \n",
    "  Y = np.array(Y)\n",
    "\n",
    "  return Y, t\n",
    "\n",
    "def harmonic(y,t) :\n",
    "  k = 50\n",
    "  m = 200\n",
    "  b = 20  # drag coefficient\n",
    "  a = (-1*k/m)*y[0] - (b/m)*y[1]   # x'' = a,  y[0] : first position\n",
    "  v = y[1]                         # v = first velocity : y[1]\n",
    "  f = np.array([v,a])\n",
    "  return f\n",
    "\n",
    "a = Euler_Method(harmonic, 0, 100, y_0, 100000)\n",
    "X = a[0][:,0]\n",
    "t = a[1]\n",
    "\n",
    "plt.plot(t,X)\n",
    "plt.show()"
   ]
  },
  {
   "cell_type": "code",
   "execution_count": null,
   "id": "d6f2d601-ce10-43e4-be56-f708d7af19b8",
   "metadata": {},
   "outputs": [],
   "source": []
  }
 ],
 "metadata": {
  "kernelspec": {
   "display_name": "Python 3 (ipykernel)",
   "language": "python",
   "name": "python3"
  },
  "language_info": {
   "codemirror_mode": {
    "name": "ipython",
    "version": 3
   },
   "file_extension": ".py",
   "mimetype": "text/x-python",
   "name": "python",
   "nbconvert_exporter": "python",
   "pygments_lexer": "ipython3",
   "version": "3.9.12"
  }
 },
 "nbformat": 4,
 "nbformat_minor": 5
}
